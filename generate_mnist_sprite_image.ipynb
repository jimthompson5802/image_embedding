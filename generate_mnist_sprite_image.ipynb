{
 "cells": [
  {
   "cell_type": "markdown",
   "metadata": {
    "collapsed": true,
    "nbpresent": {
     "id": "adb15894-65a5-4519-8043-81723e4b75ec"
    }
   },
   "source": [
    "# Save MNIST digit images as sprite image"
   ]
  },
  {
   "cell_type": "code",
   "execution_count": 1,
   "metadata": {
    "collapsed": true,
    "nbpresent": {
     "id": "a5f7cdc6-fd3c-4d43-8ff8-82562e3378d9"
    }
   },
   "outputs": [],
   "source": [
    "import tensorflow as tf\n",
    "from tensorflow.python.keras.datasets import mnist\n",
    "import matplotlib.pyplot as plt\n",
    "import numpy as np"
   ]
  },
  {
   "cell_type": "code",
   "execution_count": 2,
   "metadata": {
    "collapsed": true,
    "nbpresent": {
     "id": "832fe212-a3e4-4ad0-8370-08a07ddc5c3d"
    }
   },
   "outputs": [],
   "source": [
    "mnist_digits = mnist.load_data()"
   ]
  },
  {
   "cell_type": "markdown",
   "metadata": {
    "nbpresent": {
     "id": "289e91c1-e717-4b3c-90fe-93f5854f76dd"
    }
   },
   "source": [
    "## Contents mnist_digits\n",
    "```\n",
    "mnist_digits[0] - 60K training data\n",
    "mnist_digits[0][0] - 60K numpy array of digit images 28x28\n",
    "mnist_digits[0][1] - 60K image labels\n",
    "\n",
    "mnist_digits[1] - 10K test data\n",
    "mnist_digits[1][0] - 10K numpy array of digit images 20x28\n",
    "mnist_digits[1][1] - 10K image labels\n",
    "\n",
    "```"
   ]
  },
  {
   "cell_type": "code",
   "execution_count": 3,
   "metadata": {},
   "outputs": [
    {
     "data": {
      "text/plain": [
       "(10000, 28, 28)"
      ]
     },
     "execution_count": 3,
     "metadata": {},
     "output_type": "execute_result"
    }
   ],
   "source": [
    "mnist_digits[1][0].shape"
   ]
  },
  {
   "cell_type": "code",
   "execution_count": 4,
   "metadata": {
    "nbpresent": {
     "id": "0f44d9bf-4614-4c6a-a29a-0ab470a47cb9"
    }
   },
   "outputs": [
    {
     "data": {
      "text/plain": [
       "(10000,)"
      ]
     },
     "execution_count": 4,
     "metadata": {},
     "output_type": "execute_result"
    }
   ],
   "source": [
    "mnist_digits[1][1].shape"
   ]
  },
  {
   "cell_type": "code",
   "execution_count": 118,
   "metadata": {
    "collapsed": true,
    "nbpresent": {
     "id": "e5a23427-6b35-4b7c-b2c5-923ceb1a541c"
    }
   },
   "outputs": [],
   "source": [
    "# extract images to sprite\n",
    "images_to_sprite = mnist_digits[1][0]"
   ]
  },
  {
   "cell_type": "code",
   "execution_count": 119,
   "metadata": {
    "nbpresent": {
     "id": "546a0e14-2cda-4ff5-9d00-6721615e1a95"
    }
   },
   "outputs": [
    {
     "data": {
      "text/plain": [
       "(10000, 28, 28)"
      ]
     },
     "execution_count": 119,
     "metadata": {},
     "output_type": "execute_result"
    }
   ],
   "source": [
    "images_to_sprite.shape"
   ]
  },
  {
   "cell_type": "code",
   "execution_count": 137,
   "metadata": {
    "collapsed": true,
    "nbpresent": {
     "id": "9bf57569-9cb5-4faf-9780-672b3d7a2caf"
    }
   },
   "outputs": [],
   "source": [
    "COLUMNS = 100"
   ]
  },
  {
   "cell_type": "code",
   "execution_count": 138,
   "metadata": {},
   "outputs": [
    {
     "data": {
      "text/plain": [
       "(10000, 28, 28)"
      ]
     },
     "execution_count": 138,
     "metadata": {},
     "output_type": "execute_result"
    }
   ],
   "source": [
    "#test for partial row\n",
    "\n",
    "if (images_to_sprite.shape[0] % COLUMNS) != 0:\n",
    "    number_images_to_fill = COLUMNS - \\\n",
    "            (images_to_sprite.shape[0] % COLUMNS)\n",
    "    images_to_sprite = np.vstack([images_to_sprite,\n",
    "              np.zeros([number_images_to_fill,28,28])])\n",
    "\n",
    "images_to_sprite.shape"
   ]
  },
  {
   "cell_type": "code",
   "execution_count": 139,
   "metadata": {
    "nbpresent": {
     "id": "dacffec6-2a2c-45f8-8d29-2e9c56b1c5d7"
    }
   },
   "outputs": [
    {
     "data": {
      "text/plain": [
       "100"
      ]
     },
     "execution_count": 139,
     "metadata": {},
     "output_type": "execute_result"
    }
   ],
   "source": [
    "rows = np.ceil(images_to_sprite.shape[0] / float(COLUMNS)).astype('int')\n",
    "rows"
   ]
  },
  {
   "cell_type": "code",
   "execution_count": 140,
   "metadata": {
    "collapsed": true,
    "nbpresent": {
     "id": "802118dc-c0b2-483d-a6bf-e4772358b6a2"
    }
   },
   "outputs": [],
   "source": [
    "sprite_image = np.vstack([np.hstack(images_to_sprite[r*COLUMNS:(r+1)*COLUMNS]) \n",
    "     for r in range(rows)])"
   ]
  },
  {
   "cell_type": "code",
   "execution_count": 144,
   "metadata": {
    "nbpresent": {
     "id": "2abfe1fb-7dd2-492f-97bd-9ca3d47b1906"
    }
   },
   "outputs": [
    {
     "data": {
      "text/plain": [
       "<matplotlib.figure.Figure at 0x181c1c6160>"
      ]
     },
     "execution_count": 144,
     "metadata": {},
     "output_type": "execute_result"
    }
   ],
   "source": [
    "plt.figure(figsize=(5,5))\n",
    "#plt.imshow(sprite_image,cmap='Greys')\n",
    "#plt.show()"
   ]
  },
  {
   "cell_type": "code",
   "execution_count": 145,
   "metadata": {
    "collapsed": true
   },
   "outputs": [],
   "source": [
    "plt.imsave('./mnist_sprite.png',sprite_image,cmap='Greys')"
   ]
  },
  {
   "cell_type": "code",
   "execution_count": null,
   "metadata": {
    "collapsed": true
   },
   "outputs": [],
   "source": []
  }
 ],
 "metadata": {
  "kernelspec": {
   "display_name": "Python [conda env:tf14]",
   "language": "python",
   "name": "conda-env-tf14-py"
  },
  "language_info": {
   "codemirror_mode": {
    "name": "ipython",
    "version": 3
   },
   "file_extension": ".py",
   "mimetype": "text/x-python",
   "name": "python",
   "nbconvert_exporter": "python",
   "pygments_lexer": "ipython3",
   "version": "3.5.4"
  },
  "nbpresent": {
   "slides": {
    "e115d449-7065-4194-b209-bf88bc33fcc5": {
     "id": "e115d449-7065-4194-b209-bf88bc33fcc5",
     "prev": null,
     "regions": {}
    }
   },
   "themes": {}
  }
 },
 "nbformat": 4,
 "nbformat_minor": 2
}
